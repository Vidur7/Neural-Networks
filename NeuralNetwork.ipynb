{
 "cells": [
  {
   "cell_type": "code",
   "execution_count": 130,
   "id": "bb13dae3",
   "metadata": {},
   "outputs": [],
   "source": [
    "import pandas as pd\n",
    "\n",
    "url = 'https://raw.githubusercontent.com/VikParuchuri/zero_to_gpt/master/data/clean_weather.csv'\n",
    "data = pd.read_csv(url)"
   ]
  },
  {
   "cell_type": "code",
   "execution_count": 131,
   "id": "31d8eb64",
   "metadata": {},
   "outputs": [
    {
     "data": {
      "text/html": [
       "<div>\n",
       "<style scoped>\n",
       "    .dataframe tbody tr th:only-of-type {\n",
       "        vertical-align: middle;\n",
       "    }\n",
       "\n",
       "    .dataframe tbody tr th {\n",
       "        vertical-align: top;\n",
       "    }\n",
       "\n",
       "    .dataframe thead th {\n",
       "        text-align: right;\n",
       "    }\n",
       "</style>\n",
       "<table border=\"1\" class=\"dataframe\">\n",
       "  <thead>\n",
       "    <tr style=\"text-align: right;\">\n",
       "      <th></th>\n",
       "      <th>Unnamed: 0</th>\n",
       "      <th>tmax</th>\n",
       "      <th>tmin</th>\n",
       "      <th>rain</th>\n",
       "      <th>tmax_tomorrow</th>\n",
       "    </tr>\n",
       "  </thead>\n",
       "  <tbody>\n",
       "    <tr>\n",
       "      <th>0</th>\n",
       "      <td>1970-01-01</td>\n",
       "      <td>60.0</td>\n",
       "      <td>35.0</td>\n",
       "      <td>0.0</td>\n",
       "      <td>52.0</td>\n",
       "    </tr>\n",
       "    <tr>\n",
       "      <th>1</th>\n",
       "      <td>1970-01-02</td>\n",
       "      <td>52.0</td>\n",
       "      <td>39.0</td>\n",
       "      <td>0.0</td>\n",
       "      <td>52.0</td>\n",
       "    </tr>\n",
       "    <tr>\n",
       "      <th>2</th>\n",
       "      <td>1970-01-03</td>\n",
       "      <td>52.0</td>\n",
       "      <td>35.0</td>\n",
       "      <td>0.0</td>\n",
       "      <td>53.0</td>\n",
       "    </tr>\n",
       "    <tr>\n",
       "      <th>3</th>\n",
       "      <td>1970-01-04</td>\n",
       "      <td>53.0</td>\n",
       "      <td>36.0</td>\n",
       "      <td>0.0</td>\n",
       "      <td>52.0</td>\n",
       "    </tr>\n",
       "    <tr>\n",
       "      <th>4</th>\n",
       "      <td>1970-01-05</td>\n",
       "      <td>52.0</td>\n",
       "      <td>35.0</td>\n",
       "      <td>0.0</td>\n",
       "      <td>50.0</td>\n",
       "    </tr>\n",
       "    <tr>\n",
       "      <th>...</th>\n",
       "      <td>...</td>\n",
       "      <td>...</td>\n",
       "      <td>...</td>\n",
       "      <td>...</td>\n",
       "      <td>...</td>\n",
       "    </tr>\n",
       "    <tr>\n",
       "      <th>13504</th>\n",
       "      <td>2022-11-22</td>\n",
       "      <td>62.0</td>\n",
       "      <td>35.0</td>\n",
       "      <td>0.0</td>\n",
       "      <td>67.0</td>\n",
       "    </tr>\n",
       "    <tr>\n",
       "      <th>13505</th>\n",
       "      <td>2022-11-23</td>\n",
       "      <td>67.0</td>\n",
       "      <td>38.0</td>\n",
       "      <td>0.0</td>\n",
       "      <td>66.0</td>\n",
       "    </tr>\n",
       "    <tr>\n",
       "      <th>13506</th>\n",
       "      <td>2022-11-24</td>\n",
       "      <td>66.0</td>\n",
       "      <td>41.0</td>\n",
       "      <td>0.0</td>\n",
       "      <td>70.0</td>\n",
       "    </tr>\n",
       "    <tr>\n",
       "      <th>13507</th>\n",
       "      <td>2022-11-25</td>\n",
       "      <td>70.0</td>\n",
       "      <td>39.0</td>\n",
       "      <td>0.0</td>\n",
       "      <td>62.0</td>\n",
       "    </tr>\n",
       "    <tr>\n",
       "      <th>13508</th>\n",
       "      <td>2022-11-26</td>\n",
       "      <td>62.0</td>\n",
       "      <td>41.0</td>\n",
       "      <td>0.0</td>\n",
       "      <td>64.0</td>\n",
       "    </tr>\n",
       "  </tbody>\n",
       "</table>\n",
       "<p>13509 rows × 5 columns</p>\n",
       "</div>"
      ],
      "text/plain": [
       "       Unnamed: 0  tmax  tmin  rain  tmax_tomorrow\n",
       "0      1970-01-01  60.0  35.0   0.0           52.0\n",
       "1      1970-01-02  52.0  39.0   0.0           52.0\n",
       "2      1970-01-03  52.0  35.0   0.0           53.0\n",
       "3      1970-01-04  53.0  36.0   0.0           52.0\n",
       "4      1970-01-05  52.0  35.0   0.0           50.0\n",
       "...           ...   ...   ...   ...            ...\n",
       "13504  2022-11-22  62.0  35.0   0.0           67.0\n",
       "13505  2022-11-23  67.0  38.0   0.0           66.0\n",
       "13506  2022-11-24  66.0  41.0   0.0           70.0\n",
       "13507  2022-11-25  70.0  39.0   0.0           62.0\n",
       "13508  2022-11-26  62.0  41.0   0.0           64.0\n",
       "\n",
       "[13509 rows x 5 columns]"
      ]
     },
     "execution_count": 131,
     "metadata": {},
     "output_type": "execute_result"
    }
   ],
   "source": [
    "data.ffill()"
   ]
  },
  {
   "cell_type": "code",
   "execution_count": 88,
   "id": "1e3c7ef8",
   "metadata": {},
   "outputs": [
    {
     "data": {
      "text/plain": [
       "<Axes: xlabel='tmax', ylabel='tmax_tomorrow'>"
      ]
     },
     "execution_count": 88,
     "metadata": {},
     "output_type": "execute_result"
    },
    {
     "data": {
      "image/png": "[encoded data removed]",
      "text/plain": [
       "<Figure size 640x480 with 1 Axes>"
      ]
     },
     "metadata": {},
     "output_type": "display_data"
    }
   ],
   "source": [
    "data.plot.scatter(\"tmax\",\"tmax_tomorrow\")"
   ]
  },
  {
   "cell_type": "code",
   "execution_count": 89,
   "id": "cdcfd117",
   "metadata": {},
   "outputs": [
    {
     "name": "stderr",
     "output_type": "stream",
     "text": [
      "C:\\Users\\vidur\\AppData\\Local\\Temp\\ipykernel_11976\\2627137660.py:1: FutureWarning: The default value of numeric_only in DataFrame.corr is deprecated. In a future version, it will default to False. Select only valid columns or specify the value of numeric_only to silence this warning.\n",
      "  data.corr()\n"
     ]
    },
    {
     "data": {
      "text/html": [
       "<div>\n",
       "<style scoped>\n",
       "    .dataframe tbody tr th:only-of-type {\n",
       "        vertical-align: middle;\n",
       "    }\n",
       "\n",
       "    .dataframe tbody tr th {\n",
       "        vertical-align: top;\n",
       "    }\n",
       "\n",
       "    .dataframe thead th {\n",
       "        text-align: right;\n",
       "    }\n",
       "</style>\n",
       "<table border=\"1\" class=\"dataframe\">\n",
       "  <thead>\n",
       "    <tr style=\"text-align: right;\">\n",
       "      <th></th>\n",
       "      <th>tmax</th>\n",
       "      <th>tmin</th>\n",
       "      <th>rain</th>\n",
       "      <th>tmax_tomorrow</th>\n",
       "    </tr>\n",
       "  </thead>\n",
       "  <tbody>\n",
       "    <tr>\n",
       "      <th>tmax</th>\n",
       "      <td>1.000000</td>\n",
       "      <td>0.615134</td>\n",
       "      <td>-0.221703</td>\n",
       "      <td>0.818820</td>\n",
       "    </tr>\n",
       "    <tr>\n",
       "      <th>tmin</th>\n",
       "      <td>0.615134</td>\n",
       "      <td>1.000000</td>\n",
       "      <td>-0.018215</td>\n",
       "      <td>0.584958</td>\n",
       "    </tr>\n",
       "    <tr>\n",
       "      <th>rain</th>\n",
       "      <td>-0.221703</td>\n",
       "      <td>-0.018215</td>\n",
       "      <td>1.000000</td>\n",
       "      <td>-0.213239</td>\n",
       "    </tr>\n",
       "    <tr>\n",
       "      <th>tmax_tomorrow</th>\n",
       "      <td>0.818820</td>\n",
       "      <td>0.584958</td>\n",
       "      <td>-0.213239</td>\n",
       "      <td>1.000000</td>\n",
       "    </tr>\n",
       "  </tbody>\n",
       "</table>\n",
       "</div>"
      ],
      "text/plain": [
       "                   tmax      tmin      rain  tmax_tomorrow\n",
       "tmax           1.000000  0.615134 -0.221703       0.818820\n",
       "tmin           0.615134  1.000000 -0.018215       0.584958\n",
       "rain          -0.221703 -0.018215  1.000000      -0.213239\n",
       "tmax_tomorrow  0.818820  0.584958 -0.213239       1.000000"
      ]
     },
     "execution_count": 89,
     "metadata": {},
     "output_type": "execute_result"
    }
   ],
   "source": [
    "data.corr()"
   ]
  },
  {
   "cell_type": "code",
   "execution_count": 90,
   "id": "35e138cf",
   "metadata": {},
   "outputs": [
    {
     "data": {
      "text/plain": [
       "[<matplotlib.lines.Line2D at 0x1a51d388cd0>]"
      ]
     },
     "execution_count": 90,
     "metadata": {},
     "output_type": "execute_result"
    },
    {
     "data": {
      "image/png": "[encoded data removed]",
      "text/plain": [
       "<Figure size 640x480 with 1 Axes>"
      ]
     },
     "metadata": {},
     "output_type": "display_data"
    }
   ],
   "source": [
    "import matplotlib.pyplot as plt\n",
    "data.plot.scatter(\"tmax\", \"tmax_tomorrow\")\n",
    "\n",
    "# Calculate the prediction given our weight and bias\n",
    "prediction = lambda x, w1=.82, b=11.99: x * w1 + b\n",
    "\n",
    "# Plot a linear regression line over our data\n",
    "plt.plot([30, 120], [prediction(30),prediction(120)], 'green')"
   ]
  },
  {
   "cell_type": "code",
   "execution_count": 91,
   "id": "fec4cf6e",
   "metadata": {},
   "outputs": [
    {
     "name": "stdout",
     "output_type": "stream",
     "text": [
      "22.829737716827278\n"
     ]
    }
   ],
   "source": [
    "import numpy as np\n",
    "\n",
    "def mse(actual, predicted):\n",
    "    return np.mean((actual-predicted) ** 2)\n",
    "\n",
    "print(mse(data[\"tmax_tomorrow\"], prediction(data[\"tmax\"])))"
   ]
  },
  {
   "cell_type": "code",
   "execution_count": 92,
   "id": "d82a748e",
   "metadata": {},
   "outputs": [
    {
     "data": {
      "text/plain": [
       "<matplotlib.collections.PathCollection at 0x1a51d1f7fa0>"
      ]
     },
     "execution_count": 92,
     "metadata": {},
     "output_type": "execute_result"
    },
    {
     "data": {
      "image/png": "[encoded data removed]",
      "text/plain": [
       "<Figure size 640x480 with 1 Axes>"
      ]
     },
     "metadata": {},
     "output_type": "display_data"
    }
   ],
   "source": [
    "tmax_bins = pd.cut(data[\"tmax\"], 25)\n",
    "\n",
    "\n",
    "ratios = (data[\"tmax_tomorrow\"] - 11.99 )/ data[\"tmax\"]\n",
    "binned_ratio = ratios.groupby(tmax_bins).mean()\n",
    "\n",
    "\n",
    "binned_tmax = data[\"tmax\"].groupby(tmax_bins).mean()\n",
    "\n",
    "plt.scatter(binned_tmax, binned_ratio)"
   ]
  },
  {
   "cell_type": "code",
   "execution_count": 93,
   "id": "191aa611",
   "metadata": {},
   "outputs": [
    {
     "data": {
      "text/plain": [
       "tmax\n",
       "(37.916, 41.36]     0.773904\n",
       "(41.36, 44.72]      0.762256\n",
       "(44.72, 48.08]      0.798484\n",
       "(48.08, 51.44]      0.805470\n",
       "(51.44, 54.8]       0.803930\n",
       "(54.8, 58.16]       0.802731\n",
       "(58.16, 61.52]      0.812692\n",
       "(61.52, 64.88]      0.821498\n",
       "(64.88, 68.24]      0.829101\n",
       "(68.24, 71.6]       0.830006\n",
       "(71.6, 74.96]       0.825894\n",
       "(74.96, 78.32]      0.822207\n",
       "(78.32, 81.68]      0.804168\n",
       "(81.68, 85.04]      0.800264\n",
       "(85.04, 88.4]       0.769633\n",
       "(88.4, 91.76]       0.796350\n",
       "(91.76, 95.12]      0.798793\n",
       "(95.12, 98.48]      0.800002\n",
       "(98.48, 101.84]     0.771119\n",
       "(101.84, 105.2]     0.805621\n",
       "(105.2, 108.56]          NaN\n",
       "(108.56, 111.92]         NaN\n",
       "(111.92, 115.28]         NaN\n",
       "(115.28, 118.64]         NaN\n",
       "(118.64, 122.0]     0.360738\n",
       "dtype: float64"
      ]
     },
     "execution_count": 93,
     "metadata": {},
     "output_type": "execute_result"
    }
   ],
   "source": [
    "binned_ratio"
   ]
  },
  {
   "cell_type": "code",
   "execution_count": 94,
   "id": "6f41fcfc",
   "metadata": {},
   "outputs": [
    {
     "data": {
      "text/plain": [
       "[<matplotlib.lines.Line2D at 0x1a51d26bb80>]"
      ]
     },
     "execution_count": 94,
     "metadata": {},
     "output_type": "execute_result"
    },
    {
     "data": {
      "image/png": "[encoded data removed]",
      "text/plain": [
       "<Figure size 640x480 with 1 Axes>"
      ]
     },
     "metadata": {},
     "output_type": "display_data"
    }
   ],
   "source": [
    "temps = np.arange(-50,50)\n",
    "\n",
    "plt.plot(temps, np.maximum(0,prediction(temps)))"
   ]
  },
  {
   "cell_type": "code",
   "execution_count": 95,
   "id": "a17f5dcf",
   "metadata": {},
   "outputs": [
    {
     "data": {
      "text/plain": [
       "(0.0, 40.0)"
      ]
     },
     "execution_count": 95,
     "metadata": {},
     "output_type": "execute_result"
    },
    {
     "data": {
      "image/png": "[encoded data removed]",
      "text/plain": [
       "<Figure size 640x480 with 1 Axes>"
      ]
     },
     "metadata": {},
     "output_type": "display_data"
    }
   ],
   "source": [
    "temps = np.arange(-50,50)\n",
    "\n",
    "layer1 = np.maximum(0,prediction(temps))\n",
    "layer2 = prediction(layer1, .5, 10)\n",
    "\n",
    "plt.plot(temps,layer2)\n",
    "plt.ylim((0,40))"
   ]
  },
  {
   "cell_type": "code",
   "execution_count": 96,
   "id": "801f7ae4",
   "metadata": {},
   "outputs": [
    {
     "data": {
      "text/plain": [
       "[<matplotlib.lines.Line2D at 0x1a51d481d80>]"
      ]
     },
     "execution_count": 96,
     "metadata": {},
     "output_type": "execute_result"
    },
    {
     "data": {
      "image/png": "[encoded data removed]",
      "text/plain": [
       "<Figure size 640x480 with 1 Axes>"
      ]
     },
     "metadata": {},
     "output_type": "display_data"
    }
   ],
   "source": [
    "layer1_1 = np.maximum(0,prediction(temps))\n",
    "\n",
    "layer1_2 = np.maximum(0, prediction(temps, .1, 10))\n",
    "\n",
    "layer1_3 = np.maximum(0, prediction(temps, 2, -50))\n",
    "\n",
    "layer2 = layer1_1* .1 + layer1_2* .3 + layer1_3* .4 + 20\n",
    "\n",
    "plt.plot(temps, layer2)"
   ]
  },
  {
   "cell_type": "code",
   "execution_count": 97,
   "id": "04f0e374",
   "metadata": {},
   "outputs": [
    {
     "data": {
      "text/plain": [
       "array([ 5. ,  5.1,  5.2,  5.3,  5.4,  5.5,  5.6,  5.7,  5.8,  5.9,  6. ,\n",
       "        6.1,  6.2,  6.3,  6.4,  6.5,  6.6,  6.7,  6.8,  6.9,  7. ,  7.1,\n",
       "        7.2,  7.3,  7.4,  7.5,  7.6,  7.7,  7.8,  7.9,  8. ,  8.1,  8.2,\n",
       "        8.3,  8.4,  8.5,  8.6,  8.7,  8.8,  8.9,  9. ,  9.1,  9.2,  9.3,\n",
       "        9.4,  9.5,  9.6,  9.7,  9.8,  9.9, 10. , 10.1, 10.2, 10.3, 10.4,\n",
       "       10.5, 10.6, 10.7, 10.8, 10.9, 11. , 11.1, 11.2, 11.3, 11.4, 11.5,\n",
       "       11.6, 11.7, 11.8, 11.9, 12. , 12.1, 12.2, 12.3, 12.4, 12.5, 12.6,\n",
       "       12.7, 12.8, 12.9, 13. , 13.1, 13.2, 13.3, 13.4, 13.5, 13.6, 13.7,\n",
       "       13.8, 13.9, 14. , 14.1, 14.2, 14.3, 14.4, 14.5, 14.6, 14.7, 14.8,\n",
       "       14.9])"
      ]
     },
     "execution_count": 97,
     "metadata": {},
     "output_type": "execute_result"
    }
   ],
   "source": [
    "layer1_2"
   ]
  },
  {
   "cell_type": "code",
   "execution_count": 98,
   "id": "1b6ac90c",
   "metadata": {},
   "outputs": [],
   "source": [
    "input = np.array([[80], [90], [100], [-20], [-10]])\n",
    "input\n",
    "l1_weights = np.array([[.81,.1]])\n",
    "l1_bias = np.array([[11.99, 10]])\n",
    "\n",
    "\n",
    "l1_output = input @ l1_weights + l1_bias"
   ]
  },
  {
   "cell_type": "code",
   "execution_count": 99,
   "id": "5fc25b16",
   "metadata": {},
   "outputs": [],
   "source": [
    "l1_activated = np.maximum(l1_output, 0)"
   ]
  },
  {
   "cell_type": "code",
   "execution_count": 100,
   "id": "7cddc1b8",
   "metadata": {},
   "outputs": [
    {
     "data": {
      "text/plain": [
       "array([[76.79, 18.  ],\n",
       "       [84.89, 19.  ],\n",
       "       [92.99, 20.  ],\n",
       "       [ 0.  ,  8.  ],\n",
       "       [ 3.89,  9.  ]])"
      ]
     },
     "execution_count": 100,
     "metadata": {},
     "output_type": "execute_result"
    }
   ],
   "source": [
    "l1_activated"
   ]
  },
  {
   "cell_type": "code",
   "execution_count": 101,
   "id": "0449fb17",
   "metadata": {},
   "outputs": [
    {
     "data": {
      "text/plain": [
       "array([[46.995],\n",
       "       [51.245],\n",
       "       [55.495],\n",
       "       [ 6.6  ],\n",
       "       [ 8.745]])"
      ]
     },
     "execution_count": 101,
     "metadata": {},
     "output_type": "execute_result"
    }
   ],
   "source": [
    "l2_weights = np.array([\n",
    "    [.5],\n",
    "    [.2]\n",
    "])\n",
    "\n",
    "l2_bias = np.array([[5]])\n",
    "\n",
    "# This is the output of the layer\n",
    "\n",
    "output = l1_activated @ l2_weights + l2_bias\n",
    "\n",
    "output"
   ]
  },
  {
   "cell_type": "code",
   "execution_count": 102,
   "id": "cb0302ab",
   "metadata": {},
   "outputs": [],
   "source": [
    "tmax = np.array([[80], [90], [100], [-20], [-10]])\n",
    "tmax_tomorrow = np.array([[83], [89], [95], [-22], [-9]])"
   ]
  },
  {
   "cell_type": "code",
   "execution_count": 103,
   "id": "a56d0f29",
   "metadata": {},
   "outputs": [
    {
     "data": {
      "text/plain": [
       "array([[ 83],\n",
       "       [ 89],\n",
       "       [ 95],\n",
       "       [-22],\n",
       "       [ -9]])"
      ]
     },
     "execution_count": 103,
     "metadata": {},
     "output_type": "execute_result"
    }
   ],
   "source": [
    "tmax_tomorrow"
   ]
  },
  {
   "cell_type": "code",
   "execution_count": 104,
   "id": "12fd60fa",
   "metadata": {},
   "outputs": [],
   "source": [
    "def mse(actual, predicted):\n",
    "    return(actual-predicted) ** 2"
   ]
  },
  {
   "cell_type": "code",
   "execution_count": 105,
   "id": "5d184808",
   "metadata": {},
   "outputs": [
    {
     "data": {
      "text/plain": [
       "array([[1296.360025],\n",
       "       [1425.440025],\n",
       "       [1560.645025],\n",
       "       [ 817.96    ],\n",
       "       [ 314.885025]])"
      ]
     },
     "execution_count": 105,
     "metadata": {},
     "output_type": "execute_result"
    }
   ],
   "source": [
    "mse(tmax_tomorrow, output)"
   ]
  },
  {
   "cell_type": "code",
   "execution_count": 106,
   "id": "c8d8e097",
   "metadata": {},
   "outputs": [],
   "source": [
    "def mse_grad(actual, predicted):\n",
    "    return predicted - actual"
   ]
  },
  {
   "cell_type": "code",
   "execution_count": 107,
   "id": "23cbb19d",
   "metadata": {},
   "outputs": [
    {
     "data": {
      "text/plain": [
       "array([[-36.005],\n",
       "       [-37.755],\n",
       "       [-39.505],\n",
       "       [ 28.6  ],\n",
       "       [ 17.745]])"
      ]
     },
     "execution_count": 107,
     "metadata": {},
     "output_type": "execute_result"
    }
   ],
   "source": [
    "mse_grad(tmax_tomorrow, output)"
   ]
  },
  {
   "cell_type": "code",
   "execution_count": 108,
   "id": "afb8e0d1",
   "metadata": {},
   "outputs": [],
   "source": [
    "output_gradient = mse_grad(tmax_tomorrow, output)"
   ]
  },
  {
   "cell_type": "code",
   "execution_count": 109,
   "id": "3ec63fb4",
   "metadata": {},
   "outputs": [
    {
     "data": {
      "text/plain": [
       "array([[-9574.3878],\n",
       "       [-1767.03  ]])"
      ]
     },
     "execution_count": 109,
     "metadata": {},
     "output_type": "execute_result"
    }
   ],
   "source": [
    "l2_w_gradient = l1_activated.T @ output_gradient\n",
    "l2_w_gradient"
   ]
  },
  {
   "cell_type": "code",
   "execution_count": 110,
   "id": "ab5d71b6",
   "metadata": {},
   "outputs": [
    {
     "data": {
      "text/latex": [
       "$\\displaystyle X$"
      ],
      "text/plain": [
       "X"
      ]
     },
     "execution_count": 110,
     "metadata": {},
     "output_type": "execute_result"
    }
   ],
   "source": [
    "from sympy import diff, symbols\n",
    "    \n",
    "x,w = symbols('X,W')\n",
    "sympy_output = x*w\n",
    "diff(sympy_output, w)"
   ]
  },
  {
   "cell_type": "code",
   "execution_count": 111,
   "id": "8e81f08b",
   "metadata": {},
   "outputs": [
    {
     "data": {
      "text/plain": [
       "array([-13.384])"
      ]
     },
     "execution_count": 111,
     "metadata": {},
     "output_type": "execute_result"
    }
   ],
   "source": [
    "l2_b_gradient = np.mean(output_gradient, axis=0)\n",
    "l2_b_gradient "
   ]
  },
  {
   "cell_type": "code",
   "execution_count": 112,
   "id": "a11f22e3",
   "metadata": {},
   "outputs": [
    {
     "data": {
      "text/plain": [
       "array([[0.5],\n",
       "       [0.2]])"
      ]
     },
     "execution_count": 112,
     "metadata": {},
     "output_type": "execute_result"
    }
   ],
   "source": [
    "l2_weights"
   ]
  },
  {
   "cell_type": "code",
   "execution_count": 113,
   "id": "7b28095b",
   "metadata": {},
   "outputs": [
    {
     "data": {
      "text/plain": [
       "array([[0.59574388],\n",
       "       [0.2176703 ]])"
      ]
     },
     "execution_count": 113,
     "metadata": {},
     "output_type": "execute_result"
    }
   ],
   "source": [
    "lr = 1e-5\n",
    "l2_bias = l2_bias - l2_b_gradient * lr\n",
    "l2_weights = l2_weights - l2_w_gradient * lr\n",
    "l2_weights"
   ]
  },
  {
   "cell_type": "code",
   "execution_count": 114,
   "id": "53fbc77c",
   "metadata": {},
   "outputs": [
    {
     "data": {
      "text/plain": [
       "array([[-21.44975833,  -7.83721915],\n",
       "       [-22.49231011,  -8.21814218],\n",
       "       [-23.5348619 ,  -8.5990652 ],\n",
       "       [ 17.03827491,   6.22537058],\n",
       "       [ 10.57147512,   3.86255947]])"
      ]
     },
     "execution_count": 114,
     "metadata": {},
     "output_type": "execute_result"
    }
   ],
   "source": [
    "l1_activated_gradient = output_gradient @ l2_weights.T\n",
    "l1_activated_gradient"
   ]
  },
  {
   "cell_type": "code",
   "execution_count": 115,
   "id": "2ace05a2",
   "metadata": {
    "scrolled": true
   },
   "outputs": [
    {
     "data": {
      "text/plain": [
       "[<matplotlib.lines.Line2D at 0x1a51d4eea10>]"
      ]
     },
     "execution_count": 115,
     "metadata": {},
     "output_type": "execute_result"
    },
    {
     "data": {
      "image/png": "[encoded data removed]",
      "text/plain": [
       "<Figure size 640x480 with 1 Axes>"
      ]
     },
     "metadata": {},
     "output_type": "display_data"
    }
   ],
   "source": [
    "temps = np.arange(-50,50)\n",
    "\n",
    "plt.plot(temps, np.maximum(0,temps))"
   ]
  },
  {
   "cell_type": "code",
   "execution_count": 116,
   "id": "70bcdf79",
   "metadata": {},
   "outputs": [
    {
     "data": {
      "text/plain": [
       "[<matplotlib.lines.Line2D at 0x1a51d55f8e0>]"
      ]
     },
     "execution_count": 116,
     "metadata": {},
     "output_type": "execute_result"
    },
    {
     "data": {
      "image/png": "[encoded data removed]",
      "text/plain": [
       "<Figure size 640x480 with 1 Axes>"
      ]
     },
     "metadata": {},
     "output_type": "display_data"
    }
   ],
   "source": [
    "activation = np.maximum(0,temps)\n",
    "\n",
    "plt.plot(temps[1:], activation[1:] - np.roll(activation, 1)[1:])"
   ]
  },
  {
   "cell_type": "code",
   "execution_count": 117,
   "id": "adbb6ff9",
   "metadata": {},
   "outputs": [
    {
     "data": {
      "text/plain": [
       "array([[-21.44975833,  -7.83721915],\n",
       "       [-22.49231011,  -8.21814218],\n",
       "       [-23.5348619 ,  -8.5990652 ],\n",
       "       [  0.        ,   6.22537058],\n",
       "       [ 10.57147512,   3.86255947]])"
      ]
     },
     "execution_count": 117,
     "metadata": {},
     "output_type": "execute_result"
    }
   ],
   "source": [
    "l1_output_gradient = l1_activated_gradient * np.heaviside(l1_output,0)\n",
    "l1_output_gradient"
   ]
  },
  {
   "cell_type": "code",
   "execution_count": 118,
   "id": "880ca9c1",
   "metadata": {},
   "outputs": [],
   "source": [
    "l1_w_gradient = input.T @ l1_output_gradient\n",
    "l1_b_gradient = np.mean(l1_output_gradient, axis=0)\n",
    "\n",
    "l1_weights -= l1_w_gradient*lr\n",
    "l1_bias -= l1_b_gradient*lr"
   ]
  },
  {
   "cell_type": "code",
   "execution_count": 119,
   "id": "032b78da",
   "metadata": {},
   "outputs": [
    {
     "data": {
      "text/plain": [
       "array([[0.8719949, 0.1238965]])"
      ]
     },
     "execution_count": 119,
     "metadata": {},
     "output_type": "execute_result"
    }
   ],
   "source": [
    "l1_weights"
   ]
  },
  {
   "cell_type": "code",
   "execution_count": 120,
   "id": "7d1de01b",
   "metadata": {},
   "outputs": [
    {
     "data": {
      "text/plain": [
       "array([[11.99011381, 10.00002913]])"
      ]
     },
     "execution_count": 120,
     "metadata": {},
     "output_type": "execute_result"
    }
   ],
   "source": [
    "l1_bias"
   ]
  },
  {
   "cell_type": "code",
   "execution_count": 121,
   "id": "4942ca7d",
   "metadata": {},
   "outputs": [],
   "source": [
    "#AlGO\n",
    "# Run the network forward pass, and get the output:\n",
    "# Compute gradient with respect to the outputs of the network. (the mse_grad function)\n",
    "# For each layer in the network:\n",
    "# Compute the gradient with respect to the pre-nonlinearity output (if the layer has a nonlinearity)\n",
    "# Compute the gradient with respect to the weights\n",
    "# Compute the gradient with respect to the biases\n",
    "# Compute the gradient with respect to the inputs to the layer\n",
    "# Update the parameters in the network using gradient descent"
   ]
  },
  {
   "cell_type": "code",
   "execution_count": 122,
   "id": "c9e55472",
   "metadata": {},
   "outputs": [],
   "source": [
    "import numpy as np\n",
    "from sklearn.preprocessing import StandardScaler\n",
    "PREDICTORS = [\"tmax\", \"tmin\", \"rain\"]\n",
    "TARGET = \"tmax_tomorrow\"\n",
    "\n",
    "# Scale our data so relu works better\n",
    "# All temperature values in the original dataset are over 0, so relu won't do much for several epochs\n",
    "# Scaling will make some of the input data negative\n",
    "scaler = StandardScaler()\n",
    "data[PREDICTORS] = scaler.fit_transform(data[PREDICTORS])\n",
    "\n",
    "split_data = np.split(data, [int(.7 * len(data)), int(.85 * len(data))])\n",
    "(train_x, train_y), (valid_x, valid_y), (test_x, test_y) = [[d[PREDICTORS].to_numpy(), d[[TARGET]].to_numpy()] for d in\n",
    "                                                            split_data]"
   ]
  },
  {
   "cell_type": "code",
   "execution_count": 123,
   "id": "3e408851",
   "metadata": {},
   "outputs": [],
   "source": [
    "def init_layers(inputs):\n",
    "    layers = []\n",
    "    for i in range(1, len(inputs)):\n",
    "        layers.append([\n",
    "            np.random.rand(inputs[i-1], inputs[i]) / 5 - .1,\n",
    "            np.ones((1,inputs[i]))\n",
    "        ])\n",
    "    return layers\n",
    "\n",
    "# This will initialize weights and biases for a 3-layer neural network with 10 units in the first layer, 10 in the second, and 1 in the final\n",
    "# The first number (3) is our number of input features\n",
    "layer_conf = [3,10,10,1]"
   ]
  },
  {
   "cell_type": "code",
   "execution_count": 124,
   "id": "13987862",
   "metadata": {},
   "outputs": [],
   "source": [
    "def forward(batch, layers):\n",
    "    hidden = [batch.copy()]\n",
    "    for i in range(len(layers)):\n",
    "        batch = np.matmul(batch, layers[i][0]) + layers[i][1]\n",
    "        if i < len(layers) - 1:\n",
    "            batch = np.maximum(batch, 0)\n",
    "        # Store the forward pass hidden values for use in backprop\n",
    "        hidden.append(batch.copy())\n",
    "    return batch, hidden"
   ]
  },
  {
   "cell_type": "code",
   "execution_count": 125,
   "id": "8c44f18f",
   "metadata": {},
   "outputs": [],
   "source": [
    "def mse(actual, predicted):\n",
    "    return (actual - predicted) ** 2\n",
    "\n",
    "def mse_grad(actual, predicted):\n",
    "    return predicted - actual"
   ]
  },
  {
   "cell_type": "code",
   "execution_count": 126,
   "id": "cb5845f3",
   "metadata": {},
   "outputs": [],
   "source": [
    "def backward(layers, hidden, grad, lr):\n",
    "    for i in range(len(layers)-1, -1, -1):\n",
    "        if i != len(layers) - 1:\n",
    "            grad = np.multiply(grad, np.heaviside(hidden[i+1], 0))\n",
    "\n",
    "        w_grad = hidden[i].T @ grad\n",
    "        b_grad = np.mean(grad, axis=0)\n",
    "\n",
    "        layers[i][0] -= w_grad * lr\n",
    "        layers[i][1] -= b_grad * lr\n",
    "        \n",
    "        grad = grad @ layers[i][0].T\n",
    "    return layers"
   ]
  },
  {
   "cell_type": "code",
   "execution_count": 127,
   "id": "76e08e94",
   "metadata": {},
   "outputs": [
    {
     "name": "stdout",
     "output_type": "stream",
     "text": [
      "Epoch: 0 Train MSE: nan Valid MSE: nan\n",
      "Epoch: 1 Train MSE: nan Valid MSE: nan\n",
      "Epoch: 2 Train MSE: nan Valid MSE: nan\n",
      "Epoch: 3 Train MSE: nan Valid MSE: nan\n",
      "Epoch: 4 Train MSE: nan Valid MSE: nan\n",
      "Epoch: 5 Train MSE: nan Valid MSE: nan\n",
      "Epoch: 6 Train MSE: nan Valid MSE: nan\n",
      "Epoch: 7 Train MSE: nan Valid MSE: nan\n",
      "Epoch: 8 Train MSE: nan Valid MSE: nan\n",
      "Epoch: 9 Train MSE: nan Valid MSE: nan\n"
     ]
    }
   ],
   "source": [
    "#Training Loop\n",
    "from statistics import mean\n",
    "\n",
    "lr = 1e-6\n",
    "epochs=10\n",
    "batch_size = 8\n",
    "\n",
    "layers = init_layers(layer_conf)\n",
    "\n",
    "for epoch in range(epochs):\n",
    "    epoch_loss = []\n",
    "\n",
    "    for i in range(0, train_x.shape[0], batch_size):\n",
    "        x_batch = train_x[i:(i+batch_size)]\n",
    "        y_batch = train_y[i:(i+batch_size)]\n",
    "        pred, hidden = forward(x_batch, layers)\n",
    "\n",
    "        loss = mse_grad(y_batch, pred)\n",
    "        epoch_loss.append(np.mean(loss ** 2))\n",
    "\n",
    "        layers = backward(layers, hidden, loss, lr)\n",
    "\n",
    "\n",
    "    valid_preds, _ = forward(valid_x, layers)\n",
    "\n",
    "    print(f\"Epoch: {epoch} Train MSE: {mean(epoch_loss)} Valid MSE: {np.mean(mse(valid_preds,valid_y))}\")"
   ]
  },
  {
   "cell_type": "code",
   "execution_count": 128,
   "id": "f3b7e51c",
   "metadata": {},
   "outputs": [
    {
     "data": {
      "text/plain": [
       "[array([[nan, nan, nan, nan, nan, nan, nan, nan, nan, nan],\n",
       "        [nan, nan, nan, nan, nan, nan, nan, nan, nan, nan],\n",
       "        [nan, nan, nan, nan, nan, nan, nan, nan, nan, nan]]),\n",
       " array([[nan, nan, nan, nan, nan, nan, nan, nan, nan, nan]])]"
      ]
     },
     "execution_count": 128,
     "metadata": {},
     "output_type": "execute_result"
    }
   ],
   "source": [
    "layers[0]"
   ]
  },
  {
   "cell_type": "code",
   "execution_count": 129,
   "id": "a75bd2ae",
   "metadata": {},
   "outputs": [
    {
     "data": {
      "text/plain": [
       "nan"
      ]
     },
     "execution_count": 129,
     "metadata": {},
     "output_type": "execute_result"
    }
   ],
   "source": [
    "pred, hidden = forward(test_x, layers)\n",
    "np.mean(mse(test_y, pred))"
   ]
  }
 ],
 "metadata": {
  "kernelspec": {
   "display_name": "Python 3 (ipykernel)",
   "language": "python",
   "name": "python3"
  },
  "language_info": {
   "codemirror_mode": {
    "name": "ipython",
    "version": 3
   },
   "file_extension": ".py",
   "mimetype": "text/x-python",
   "name": "python",
   "nbconvert_exporter": "python",
   "pygments_lexer": "ipython3",
   "version": "3.10.9"
  }
 },
 "nbformat": 4,
 "nbformat_minor": 5
}
